{
 "cells": [
  {
   "cell_type": "markdown",
   "metadata": {},
   "source": [
    "# 3 Tips for Connecting to Your First API\n",
    "## Seattle Open City Data\n",
    "\n",
    "<img src=\"images/seattle_open_data_header.png\" alt=\"Seattle Open Data Header\" width=\"500\" align=\"left\"/>"
   ]
  },
  {
   "cell_type": "markdown",
   "metadata": {},
   "source": [
    "In this notebook, we'll connect to a few open datasets for Seattle (https://data.seattle.gov) using the Socrata Open Data (SODA) API. We'll cover filtering and querying with the SODA API, and then visualize the results."
   ]
  },
  {
   "cell_type": "markdown",
   "metadata": {},
   "source": [
    "## 1. How To Find The API Endpoint"
   ]
  },
  {
   "cell_type": "markdown",
   "metadata": {},
   "source": [
    "<img src=\"images/find_api_endpoint.png\" alt=\"Seattle Budget API Endpoint\" width=\"700\" align=\"left\"/>"
   ]
  },
  {
   "cell_type": "markdown",
   "metadata": {},
   "source": [
    "To grab the API endpoint, first navigate to a sample dataset that you're interesting in exploring. We'll use https://data.seattle.gov/dataset/City-of-Seattle-Operating-Budget/8u2j-imqx as an example. Then, in the upper right corner, click on the API button and copy the text in the API Endpoint box: https://data.seattle.gov/resource/8u2j-imqx.json. Several cities use Socrata, but if you're using a different API, your best best is to skim through the documentation for details."
   ]
  },
  {
   "cell_type": "markdown",
   "metadata": {},
   "source": [
    "## Imports"
   ]
  },
  {
   "cell_type": "code",
   "execution_count": 1,
   "metadata": {},
   "outputs": [],
   "source": [
    "import pandas as pd\n",
    "import requests\n",
    "import matplotlib.pyplot as plt\n",
    "\n",
    "%matplotlib inline"
   ]
  },
  {
   "cell_type": "markdown",
   "metadata": {},
   "source": [
    "## 2. Create A Function To Simplify Bringing In The Data\n",
    "\n",
    "For ease of use, we will create a function utilizing the requests library where we can pass a url and an optional set of query parameters and then convert the result into a pandas dataframe."
   ]
  },
  {
   "cell_type": "code",
   "execution_count": 2,
   "metadata": {},
   "outputs": [],
   "source": [
    "def open_data_to_df(url, params=None):\n",
    "    \"\"\" Input url and convert to pandas dataframe\"\"\"\n",
    "    request_object = requests.get(url, params)\n",
    "    request_object_json = request_object.json()\n",
    "    return pd.DataFrame([entry for entry in request_object_json])"
   ]
  },
  {
   "cell_type": "markdown",
   "metadata": {},
   "source": [
    "## 3. Multiple Ways To Filter SODA API Results\n",
    "- **Simple Filters**: https://dev.socrata.com/docs/filtering.html\n",
    "- **Payload**: Variation on simple filters that separates filters into an easily readable dictionary http://docs.python-requests.org/en/master/user/quickstart/\n",
    "- **Socrata Query Language (SoQL)**: https://dev.socrata.com/docs/queries/\n",
    "\n",
    "Honestly, the documentation linked above could use more code examples, but with a little trial and error and reading the rest of this post, you should be able to quickly understand how to filter the results. Keep in mind that the default limit for queries is set to 1000, but we can adjust this up to 50,000 before we need to worry about paging ( https://dev.socrata.com/consumers/getting-started.html )."
   ]
  },
  {
   "cell_type": "markdown",
   "metadata": {},
   "source": [
    "### Simple Filters Example\n",
    "\n",
    "One way to filter the results is by adding ```?<column_name>=<value>``` to the end of the URL. If you would like to filter on more than one column, separate each column with an ampersand like this: ```?<col_1>=<val_1>&<col_2>=<val_2>```."
   ]
  },
  {
   "cell_type": "code",
   "execution_count": 3,
   "metadata": {},
   "outputs": [
    {
     "data": {
      "text/html": [
       "<div>\n",
       "<style scoped>\n",
       "    .dataframe tbody tr th:only-of-type {\n",
       "        vertical-align: middle;\n",
       "    }\n",
       "\n",
       "    .dataframe tbody tr th {\n",
       "        vertical-align: top;\n",
       "    }\n",
       "\n",
       "    .dataframe thead th {\n",
       "        text-align: right;\n",
       "    }\n",
       "</style>\n",
       "<table border=\"1\" class=\"dataframe\">\n",
       "  <thead>\n",
       "    <tr style=\"text-align: right;\">\n",
       "      <th></th>\n",
       "      <th>approved_amount</th>\n",
       "      <th>department</th>\n",
       "      <th>description</th>\n",
       "      <th>expense_category</th>\n",
       "      <th>expense_type</th>\n",
       "      <th>fiscal_year</th>\n",
       "      <th>fund</th>\n",
       "      <th>fund_type</th>\n",
       "      <th>program</th>\n",
       "      <th>service</th>\n",
       "    </tr>\n",
       "  </thead>\n",
       "  <tbody>\n",
       "    <tr>\n",
       "      <th>0</th>\n",
       "      <td>35709706</td>\n",
       "      <td>Transportation</td>\n",
       "      <td>City Central Costs</td>\n",
       "      <td>City Central Costs</td>\n",
       "      <td>Operating Expense</td>\n",
       "      <td>2018</td>\n",
       "      <td>General Fund</td>\n",
       "      <td>Tax-Supported Fund</td>\n",
       "      <td>General Expense</td>\n",
       "      <td>Utilities &amp; Transportation</td>\n",
       "    </tr>\n",
       "    <tr>\n",
       "      <th>1</th>\n",
       "      <td>2463611</td>\n",
       "      <td>Transportation</td>\n",
       "      <td>Director's Office</td>\n",
       "      <td>Director's Office</td>\n",
       "      <td>Operating Expense</td>\n",
       "      <td>2018</td>\n",
       "      <td>General Fund</td>\n",
       "      <td>Tax-Supported Fund</td>\n",
       "      <td>Department Management</td>\n",
       "      <td>Utilities &amp; Transportation</td>\n",
       "    </tr>\n",
       "    <tr>\n",
       "      <th>2</th>\n",
       "      <td>18773046</td>\n",
       "      <td>Transportation</td>\n",
       "      <td>Bridges &amp; Structures</td>\n",
       "      <td>Bridges &amp; Structures</td>\n",
       "      <td>Operating Expense</td>\n",
       "      <td>2018</td>\n",
       "      <td>General Fund</td>\n",
       "      <td>Tax-Supported Fund</td>\n",
       "      <td>Major Maintenance/Replacement</td>\n",
       "      <td>Utilities &amp; Transportation</td>\n",
       "    </tr>\n",
       "  </tbody>\n",
       "</table>\n",
       "</div>"
      ],
      "text/plain": [
       "  approved_amount      department           description      expense_category  \\\n",
       "0        35709706  Transportation    City Central Costs    City Central Costs   \n",
       "1         2463611  Transportation     Director's Office     Director's Office   \n",
       "2        18773046  Transportation  Bridges & Structures  Bridges & Structures   \n",
       "\n",
       "        expense_type fiscal_year          fund           fund_type  \\\n",
       "0  Operating Expense        2018  General Fund  Tax-Supported Fund   \n",
       "1  Operating Expense        2018  General Fund  Tax-Supported Fund   \n",
       "2  Operating Expense        2018  General Fund  Tax-Supported Fund   \n",
       "\n",
       "                         program                     service  \n",
       "0                General Expense  Utilities & Transportation  \n",
       "1          Department Management  Utilities & Transportation  \n",
       "2  Major Maintenance/Replacement  Utilities & Transportation  "
      ]
     },
     "execution_count": 3,
     "metadata": {},
     "output_type": "execute_result"
    }
   ],
   "source": [
    "simple_budget_url = 'https://data.seattle.gov/resource/4fzy-5niz.json?fiscal_year=2018&department=Transportation'\n",
    "simple_budget = open_data_to_df(simple_budget_url)\n",
    "simple_budget.head(3)"
   ]
  },
  {
   "cell_type": "markdown",
   "metadata": {},
   "source": [
    "### Payload Example\n",
    "\n",
    "Another way is to separate the filter in a dictionary, and then pass that dictionary to ```requests.get```. In the below example, the function open_data_to_df takes a params parameter where we can pass the dictionary. If you have several values you would like to filter on, this variation can make it easier to keep track of compared to a very long string if we used the simple filter technique."
   ]
  },
  {
   "cell_type": "code",
   "execution_count": 4,
   "metadata": {},
   "outputs": [
    {
     "data": {
      "text/html": [
       "<div>\n",
       "<style scoped>\n",
       "    .dataframe tbody tr th:only-of-type {\n",
       "        vertical-align: middle;\n",
       "    }\n",
       "\n",
       "    .dataframe tbody tr th {\n",
       "        vertical-align: top;\n",
       "    }\n",
       "\n",
       "    .dataframe thead th {\n",
       "        text-align: right;\n",
       "    }\n",
       "</style>\n",
       "<table border=\"1\" class=\"dataframe\">\n",
       "  <thead>\n",
       "    <tr style=\"text-align: right;\">\n",
       "      <th></th>\n",
       "      <th>approved_amount</th>\n",
       "      <th>department</th>\n",
       "      <th>description</th>\n",
       "      <th>expense_category</th>\n",
       "      <th>expense_type</th>\n",
       "      <th>fiscal_year</th>\n",
       "      <th>fund</th>\n",
       "      <th>fund_type</th>\n",
       "      <th>program</th>\n",
       "      <th>service</th>\n",
       "    </tr>\n",
       "  </thead>\n",
       "  <tbody>\n",
       "    <tr>\n",
       "      <th>0</th>\n",
       "      <td>93579227</td>\n",
       "      <td>City Light</td>\n",
       "      <td>Customer Service, Communications and Regulator...</td>\n",
       "      <td>Customer Service, Communications and Regulator...</td>\n",
       "      <td>Operating Expense</td>\n",
       "      <td>2018</td>\n",
       "      <td>General Fund</td>\n",
       "      <td>Tax-Supported Fund</td>\n",
       "      <td>Customer Service, Communications and Regulator...</td>\n",
       "      <td>Utilities &amp; Transportation</td>\n",
       "    </tr>\n",
       "    <tr>\n",
       "      <th>1</th>\n",
       "      <td>311102350</td>\n",
       "      <td>City Light</td>\n",
       "      <td>Long-Term Purchased Power</td>\n",
       "      <td>Long-Term Purchased Power</td>\n",
       "      <td>Operating Expense</td>\n",
       "      <td>2018</td>\n",
       "      <td>General Fund</td>\n",
       "      <td>Tax-Supported Fund</td>\n",
       "      <td>Long-Term Purchased Power</td>\n",
       "      <td>Utilities &amp; Transportation</td>\n",
       "    </tr>\n",
       "    <tr>\n",
       "      <th>2</th>\n",
       "      <td>4163560</td>\n",
       "      <td>City Light</td>\n",
       "      <td>Financial Services - CIP</td>\n",
       "      <td>Financial Services - CIP</td>\n",
       "      <td>Operating Expense</td>\n",
       "      <td>2018</td>\n",
       "      <td>General Fund</td>\n",
       "      <td>Tax-Supported Fund</td>\n",
       "      <td>Financial Services - CIP</td>\n",
       "      <td>Utilities &amp; Transportation</td>\n",
       "    </tr>\n",
       "  </tbody>\n",
       "</table>\n",
       "</div>"
      ],
      "text/plain": [
       "  approved_amount  department  \\\n",
       "0        93579227  City Light   \n",
       "1       311102350  City Light   \n",
       "2         4163560  City Light   \n",
       "\n",
       "                                         description  \\\n",
       "0  Customer Service, Communications and Regulator...   \n",
       "1                          Long-Term Purchased Power   \n",
       "2                           Financial Services - CIP   \n",
       "\n",
       "                                    expense_category       expense_type  \\\n",
       "0  Customer Service, Communications and Regulator...  Operating Expense   \n",
       "1                          Long-Term Purchased Power  Operating Expense   \n",
       "2                           Financial Services - CIP  Operating Expense   \n",
       "\n",
       "  fiscal_year          fund           fund_type  \\\n",
       "0        2018  General Fund  Tax-Supported Fund   \n",
       "1        2018  General Fund  Tax-Supported Fund   \n",
       "2        2018  General Fund  Tax-Supported Fund   \n",
       "\n",
       "                                             program  \\\n",
       "0  Customer Service, Communications and Regulator...   \n",
       "1                          Long-Term Purchased Power   \n",
       "2                           Financial Services - CIP   \n",
       "\n",
       "                      service  \n",
       "0  Utilities & Transportation  \n",
       "1  Utilities & Transportation  \n",
       "2  Utilities & Transportation  "
      ]
     },
     "execution_count": 4,
     "metadata": {},
     "output_type": "execute_result"
    }
   ],
   "source": [
    "# Enter column name followed by value into payload dictionary for filtering\n",
    "payload = {'fiscal_year': '2018', 'department': 'City Light'}\n",
    "budget_url = 'https://data.seattle.gov/resource/4fzy-5niz.json'\n",
    "\n",
    "# Pass the payload as the second argument to the function\n",
    "budget_using_payload = open_data_to_df(budget_url, params=payload)\n",
    "budget_using_payload.head(3)"
   ]
  },
  {
   "cell_type": "markdown",
   "metadata": {},
   "source": [
    "### Socrata Query Language (SoQL) Example\n",
    "\n",
    "If you're familiar with SQL, you can use most of its functionality to quickly shape the data. Below we will walk through an example of the syntax. To use SoQL with the SODA API, we just need to append ```$<sql_query>``` at the end of the URL."
   ]
  },
  {
   "cell_type": "markdown",
   "metadata": {},
   "source": [
    "Example Query: <br>\n",
    "**select** fiscal_year, sum(approved_amount) as approved_amount <br>\n",
    "**where** fiscal_year between 2010 and 2018 <br>\n",
    "**group by** fiscal_year <br>\n",
    "**order by** fiscal_year"
   ]
  },
  {
   "cell_type": "code",
   "execution_count": 5,
   "metadata": {},
   "outputs": [
    {
     "data": {
      "text/html": [
       "<div>\n",
       "<style scoped>\n",
       "    .dataframe tbody tr th:only-of-type {\n",
       "        vertical-align: middle;\n",
       "    }\n",
       "\n",
       "    .dataframe tbody tr th {\n",
       "        vertical-align: top;\n",
       "    }\n",
       "\n",
       "    .dataframe thead th {\n",
       "        text-align: right;\n",
       "    }\n",
       "</style>\n",
       "<table border=\"1\" class=\"dataframe\">\n",
       "  <thead>\n",
       "    <tr style=\"text-align: right;\">\n",
       "      <th></th>\n",
       "      <th>approved_amount</th>\n",
       "      <th>fiscal_year</th>\n",
       "    </tr>\n",
       "  </thead>\n",
       "  <tbody>\n",
       "    <tr>\n",
       "      <th>0</th>\n",
       "      <td>4.134111e+09</td>\n",
       "      <td>2010</td>\n",
       "    </tr>\n",
       "    <tr>\n",
       "      <th>1</th>\n",
       "      <td>4.122833e+09</td>\n",
       "      <td>2011</td>\n",
       "    </tr>\n",
       "    <tr>\n",
       "      <th>2</th>\n",
       "      <td>4.232593e+09</td>\n",
       "      <td>2012</td>\n",
       "    </tr>\n",
       "  </tbody>\n",
       "</table>\n",
       "</div>"
      ],
      "text/plain": [
       "   approved_amount fiscal_year\n",
       "0     4.134111e+09        2010\n",
       "1     4.122833e+09        2011\n",
       "2     4.232593e+09        2012"
      ]
     },
     "execution_count": 5,
     "metadata": {},
     "output_type": "execute_result"
    }
   ],
   "source": [
    "# Note the '=' directly after the SELECT. Without that, the API returns an error\n",
    "yearly_budget_url = 'https://data.seattle.gov/resource/4fzy-5niz.json?$select=fiscal_year, \\\n",
    "                     sum(approved_amount) as approved_amount \\\n",
    "                     where fiscal_year between 2010 and 2018  \\\n",
    "                     group by fiscal_year \\\n",
    "                     order by fiscal_year'\n",
    "yearly_budget = open_data_to_df(yearly_budget_url)\n",
    "\n",
    "# Convert approved_amount from string to numeric\n",
    "yearly_budget['approved_amount'] = pd.to_numeric(yearly_budget['approved_amount'])\n",
    "yearly_budget.head(3)"
   ]
  },
  {
   "cell_type": "markdown",
   "metadata": {},
   "source": [
    "# Dive Into The Data\n",
    "\n",
    "## Which Departments Have The Highest Median Hourly Wage?\n",
    "\n",
    "URL: https://data.seattle.gov/City-Business/City-of-Seattle-Wage-Data/2khk-5ukd\n",
    "\n",
    "API: https://data.seattle.gov/resource/ssah-h43e.json"
   ]
  },
  {
   "cell_type": "code",
   "execution_count": 6,
   "metadata": {},
   "outputs": [
    {
     "data": {
      "text/html": [
       "<div>\n",
       "<style scoped>\n",
       "    .dataframe tbody tr th:only-of-type {\n",
       "        vertical-align: middle;\n",
       "    }\n",
       "\n",
       "    .dataframe tbody tr th {\n",
       "        vertical-align: top;\n",
       "    }\n",
       "\n",
       "    .dataframe thead th {\n",
       "        text-align: right;\n",
       "    }\n",
       "</style>\n",
       "<table border=\"1\" class=\"dataframe\">\n",
       "  <thead>\n",
       "    <tr style=\"text-align: right;\">\n",
       "      <th></th>\n",
       "      <th>department</th>\n",
       "      <th>hourly_rate</th>\n",
       "    </tr>\n",
       "  </thead>\n",
       "  <tbody>\n",
       "    <tr>\n",
       "      <th>0</th>\n",
       "      <td>Police Department</td>\n",
       "      <td>50.38</td>\n",
       "    </tr>\n",
       "    <tr>\n",
       "      <th>1</th>\n",
       "      <td>Police Department</td>\n",
       "      <td>48.86</td>\n",
       "    </tr>\n",
       "    <tr>\n",
       "      <th>2</th>\n",
       "      <td>Police Department</td>\n",
       "      <td>48.86</td>\n",
       "    </tr>\n",
       "    <tr>\n",
       "      <th>3</th>\n",
       "      <td>Police Department</td>\n",
       "      <td>46.68</td>\n",
       "    </tr>\n",
       "    <tr>\n",
       "      <th>4</th>\n",
       "      <td>Police Department</td>\n",
       "      <td>48.86</td>\n",
       "    </tr>\n",
       "  </tbody>\n",
       "</table>\n",
       "</div>"
      ],
      "text/plain": [
       "          department  hourly_rate\n",
       "0  Police Department        50.38\n",
       "1  Police Department        48.86\n",
       "2  Police Department        48.86\n",
       "3  Police Department        46.68\n",
       "4  Police Department        48.86"
      ]
     },
     "execution_count": 6,
     "metadata": {},
     "output_type": "execute_result"
    }
   ],
   "source": [
    "wages_url = 'https://data.seattle.gov/resource/ssah-h43e.json?$select=department, hourly_rate limit 50000'\n",
    "seattle_wages = open_data_to_df(wages_url)\n",
    "\n",
    "# Convert hourly_rate column from string to float\n",
    "seattle_wages['hourly_rate'] = pd.to_numeric(seattle_wages['hourly_rate'])\n",
    "seattle_wages.head()"
   ]
  },
  {
   "cell_type": "code",
   "execution_count": 7,
   "metadata": {},
   "outputs": [],
   "source": [
    "# reset_index() is very helpful\n",
    "median_wages = seattle_wages.groupby('department').median().sort_values('hourly_rate').reset_index()"
   ]
  },
  {
   "cell_type": "code",
   "execution_count": 8,
   "metadata": {},
   "outputs": [
    {
     "data": {
      "image/png": "[encoded data removed]",
      "text/plain": [
       "<Figure size 504x720 with 1 Axes>"
      ]
     },
     "metadata": {},
     "output_type": "display_data"
    }
   ],
   "source": [
    "plt.figure(figsize=(7,10))\n",
    "plt.barh(median_wages['department'], median_wages['hourly_rate'])\n",
    "plt.title('Median Hourly Wage by Department')\n",
    "plt.ylabel('Department')\n",
    "plt.xlabel('Median hourly wage');"
   ]
  },
  {
   "cell_type": "markdown",
   "metadata": {},
   "source": [
    "## What Are The Most Common Types Of Crime In 2018 And How Often Do They Occur?\n",
    "\n",
    "URL: https://data.seattle.gov/Public-Safety/Crime-Data/4fs7-3vj5\n",
    "\n",
    "API: https://data.seattle.gov/resource/xurz-654a.json"
   ]
  },
  {
   "cell_type": "code",
   "execution_count": 9,
   "metadata": {},
   "outputs": [
    {
     "data": {
      "text/html": [
       "<div>\n",
       "<style scoped>\n",
       "    .dataframe tbody tr th:only-of-type {\n",
       "        vertical-align: middle;\n",
       "    }\n",
       "\n",
       "    .dataframe tbody tr th {\n",
       "        vertical-align: top;\n",
       "    }\n",
       "\n",
       "    .dataframe thead th {\n",
       "        text-align: right;\n",
       "    }\n",
       "</style>\n",
       "<table border=\"1\" class=\"dataframe\">\n",
       "  <thead>\n",
       "    <tr style=\"text-align: right;\">\n",
       "      <th></th>\n",
       "      <th>beat</th>\n",
       "      <th>crime_description</th>\n",
       "      <th>crime_subcategory</th>\n",
       "      <th>go_number</th>\n",
       "      <th>neighborhood</th>\n",
       "      <th>occ_datetime</th>\n",
       "      <th>occ_time</th>\n",
       "      <th>precinct</th>\n",
       "      <th>reported_date</th>\n",
       "      <th>reported_time</th>\n",
       "      <th>sector</th>\n",
       "    </tr>\n",
       "  </thead>\n",
       "  <tbody>\n",
       "    <tr>\n",
       "      <th>0</th>\n",
       "      <td>B3</td>\n",
       "      <td>TRESPASS</td>\n",
       "      <td>TRESPASS</td>\n",
       "      <td>20180000534</td>\n",
       "      <td>WALLINGFORD</td>\n",
       "      <td>2018-01-01T00:00:00.000</td>\n",
       "      <td>1217</td>\n",
       "      <td>NORTH</td>\n",
       "      <td>2018-01-01</td>\n",
       "      <td>1217</td>\n",
       "      <td>B</td>\n",
       "    </tr>\n",
       "    <tr>\n",
       "      <th>1</th>\n",
       "      <td>F3</td>\n",
       "      <td>BURGLARY-FORCE-RES</td>\n",
       "      <td>BURGLARY-RESIDENTIAL</td>\n",
       "      <td>20180000666</td>\n",
       "      <td>HIGHLAND PARK</td>\n",
       "      <td>2017-12-29T00:00:00.000</td>\n",
       "      <td>2130</td>\n",
       "      <td>SOUTHWEST</td>\n",
       "      <td>2018-01-01</td>\n",
       "      <td>1421</td>\n",
       "      <td>F</td>\n",
       "    </tr>\n",
       "    <tr>\n",
       "      <th>2</th>\n",
       "      <td>M3</td>\n",
       "      <td>CHILD-OTHER</td>\n",
       "      <td>FAMILY OFFENSE-NONVIOLENT</td>\n",
       "      <td>20180000664</td>\n",
       "      <td>DOWNTOWN COMMERCIAL</td>\n",
       "      <td>2018-01-01T00:00:00.000</td>\n",
       "      <td>1419</td>\n",
       "      <td>WEST</td>\n",
       "      <td>2018-01-01</td>\n",
       "      <td>1419</td>\n",
       "      <td>M</td>\n",
       "    </tr>\n",
       "    <tr>\n",
       "      <th>3</th>\n",
       "      <td>M3</td>\n",
       "      <td>THEFT-SHOPLIFT</td>\n",
       "      <td>THEFT-SHOPLIFT</td>\n",
       "      <td>20180000840</td>\n",
       "      <td>DOWNTOWN COMMERCIAL</td>\n",
       "      <td>2018-01-01T00:00:00.000</td>\n",
       "      <td>1715</td>\n",
       "      <td>WEST</td>\n",
       "      <td>2018-01-01</td>\n",
       "      <td>1720</td>\n",
       "      <td>M</td>\n",
       "    </tr>\n",
       "    <tr>\n",
       "      <th>4</th>\n",
       "      <td>M3</td>\n",
       "      <td>THEFT-SHOPLIFT</td>\n",
       "      <td>THEFT-SHOPLIFT</td>\n",
       "      <td>20180000857</td>\n",
       "      <td>DOWNTOWN COMMERCIAL</td>\n",
       "      <td>2018-01-01T00:00:00.000</td>\n",
       "      <td>1500</td>\n",
       "      <td>WEST</td>\n",
       "      <td>2018-01-01</td>\n",
       "      <td>1742</td>\n",
       "      <td>M</td>\n",
       "    </tr>\n",
       "  </tbody>\n",
       "</table>\n",
       "</div>"
      ],
      "text/plain": [
       "  beat   crime_description          crime_subcategory    go_number  \\\n",
       "0   B3            TRESPASS                   TRESPASS  20180000534   \n",
       "1   F3  BURGLARY-FORCE-RES       BURGLARY-RESIDENTIAL  20180000666   \n",
       "2   M3         CHILD-OTHER  FAMILY OFFENSE-NONVIOLENT  20180000664   \n",
       "3   M3      THEFT-SHOPLIFT             THEFT-SHOPLIFT  20180000840   \n",
       "4   M3      THEFT-SHOPLIFT             THEFT-SHOPLIFT  20180000857   \n",
       "\n",
       "          neighborhood             occ_datetime occ_time   precinct  \\\n",
       "0          WALLINGFORD  2018-01-01T00:00:00.000     1217      NORTH   \n",
       "1        HIGHLAND PARK  2017-12-29T00:00:00.000     2130  SOUTHWEST   \n",
       "2  DOWNTOWN COMMERCIAL  2018-01-01T00:00:00.000     1419       WEST   \n",
       "3  DOWNTOWN COMMERCIAL  2018-01-01T00:00:00.000     1715       WEST   \n",
       "4  DOWNTOWN COMMERCIAL  2018-01-01T00:00:00.000     1500       WEST   \n",
       "\n",
       "  reported_date reported_time sector  \n",
       "0    2018-01-01          1217      B  \n",
       "1    2018-01-01          1421      F  \n",
       "2    2018-01-01          1419      M  \n",
       "3    2018-01-01          1720      M  \n",
       "4    2018-01-01          1742      M  "
      ]
     },
     "execution_count": 9,
     "metadata": {},
     "output_type": "execute_result"
    }
   ],
   "source": [
    "# This contains really old data, so we'll filter reported_date to just 2018\n",
    "crime_url = 'https://data.seattle.gov/resource/xurz-654a.json?$where=reported_date >= \"2018-01-01\" \\\n",
    "             order by reported_date limit 50000'\n",
    "seattle_crime = open_data_to_df(crime_url)\n",
    "seattle_crime['reported_date'] = pd.to_datetime(seattle_crime['reported_date'])\n",
    "seattle_crime.head()"
   ]
  },
  {
   "cell_type": "code",
   "execution_count": 10,
   "metadata": {},
   "outputs": [
    {
     "data": {
      "text/html": [
       "<div>\n",
       "<style scoped>\n",
       "    .dataframe tbody tr th:only-of-type {\n",
       "        vertical-align: middle;\n",
       "    }\n",
       "\n",
       "    .dataframe tbody tr th {\n",
       "        vertical-align: top;\n",
       "    }\n",
       "\n",
       "    .dataframe thead th {\n",
       "        text-align: right;\n",
       "    }\n",
       "</style>\n",
       "<table border=\"1\" class=\"dataframe\">\n",
       "  <thead>\n",
       "    <tr style=\"text-align: right;\">\n",
       "      <th></th>\n",
       "      <th>crime_description</th>\n",
       "      <th>count</th>\n",
       "    </tr>\n",
       "  </thead>\n",
       "  <tbody>\n",
       "    <tr>\n",
       "      <th>103</th>\n",
       "      <td>THEFT-CARPROWL</td>\n",
       "      <td>8559</td>\n",
       "    </tr>\n",
       "    <tr>\n",
       "      <th>110</th>\n",
       "      <td>THEFT-SHOPLIFT</td>\n",
       "      <td>3707</td>\n",
       "    </tr>\n",
       "    <tr>\n",
       "      <th>107</th>\n",
       "      <td>THEFT-OTH</td>\n",
       "      <td>3448</td>\n",
       "    </tr>\n",
       "    <tr>\n",
       "      <th>111</th>\n",
       "      <td>TRESPASS</td>\n",
       "      <td>2507</td>\n",
       "    </tr>\n",
       "    <tr>\n",
       "      <th>112</th>\n",
       "      <td>VEH-THEFT-AUTO</td>\n",
       "      <td>2504</td>\n",
       "    </tr>\n",
       "    <tr>\n",
       "      <th>18</th>\n",
       "      <td>BURGLARY-FORCE-RES</td>\n",
       "      <td>1418</td>\n",
       "    </tr>\n",
       "    <tr>\n",
       "      <th>102</th>\n",
       "      <td>THEFT-BUILDING</td>\n",
       "      <td>1385</td>\n",
       "    </tr>\n",
       "    <tr>\n",
       "      <th>22</th>\n",
       "      <td>BURGLARY-SECURE PARKING-RES</td>\n",
       "      <td>1215</td>\n",
       "    </tr>\n",
       "    <tr>\n",
       "      <th>20</th>\n",
       "      <td>BURGLARY-NOFORCE-RES</td>\n",
       "      <td>1206</td>\n",
       "    </tr>\n",
       "    <tr>\n",
       "      <th>17</th>\n",
       "      <td>BURGLARY-FORCE-NONRES</td>\n",
       "      <td>1197</td>\n",
       "    </tr>\n",
       "  </tbody>\n",
       "</table>\n",
       "</div>"
      ],
      "text/plain": [
       "               crime_description  count\n",
       "103               THEFT-CARPROWL   8559\n",
       "110               THEFT-SHOPLIFT   3707\n",
       "107                    THEFT-OTH   3448\n",
       "111                     TRESPASS   2507\n",
       "112               VEH-THEFT-AUTO   2504\n",
       "18            BURGLARY-FORCE-RES   1418\n",
       "102               THEFT-BUILDING   1385\n",
       "22   BURGLARY-SECURE PARKING-RES   1215\n",
       "20          BURGLARY-NOFORCE-RES   1206\n",
       "17         BURGLARY-FORCE-NONRES   1197"
      ]
     },
     "execution_count": 10,
     "metadata": {},
     "output_type": "execute_result"
    }
   ],
   "source": [
    "# Prepare data for plotting\n",
    "crime = seattle_crime[['crime_description', 'precinct']].groupby('crime_description').count().reset_index()\\\n",
    "        .sort_values('precinct', ascending=False)[:10]\n",
    "crime.columns = ['crime_description', 'count']\n",
    "crime"
   ]
  },
  {
   "cell_type": "code",
   "execution_count": 11,
   "metadata": {},
   "outputs": [
    {
     "data": {
      "image/png": "[encoded data removed]",
      "text/plain": [
       "<Figure size 360x576 with 1 Axes>"
      ]
     },
     "metadata": {},
     "output_type": "display_data"
    }
   ],
   "source": [
    "plt.figure(figsize=(5,8))\n",
    "plt.barh(crime['crime_description'][::-1], crime['count'][::-1])\n",
    "plt.title('Top 10 Crime Descriptions by Number of Occurrences')\n",
    "plt.ylabel('Crime Description')\n",
    "plt.xlabel('Count');"
   ]
  },
  {
   "cell_type": "markdown",
   "metadata": {},
   "source": [
    "## What Departments Have The Largest Budgets In 2018?\n",
    "\n",
    "URL: https://data.seattle.gov/dataset/City-of-Seattle-Operating-Budget/8u2j-imqx\n",
    "\n",
    "API: https://data.seattle.gov/resource/4fzy-5niz.json"
   ]
  },
  {
   "cell_type": "code",
   "execution_count": 12,
   "metadata": {},
   "outputs": [
    {
     "data": {
      "text/html": [
       "<div>\n",
       "<style scoped>\n",
       "    .dataframe tbody tr th:only-of-type {\n",
       "        vertical-align: middle;\n",
       "    }\n",
       "\n",
       "    .dataframe tbody tr th {\n",
       "        vertical-align: top;\n",
       "    }\n",
       "\n",
       "    .dataframe thead th {\n",
       "        text-align: right;\n",
       "    }\n",
       "</style>\n",
       "<table border=\"1\" class=\"dataframe\">\n",
       "  <thead>\n",
       "    <tr style=\"text-align: right;\">\n",
       "      <th></th>\n",
       "      <th>approved_amount</th>\n",
       "      <th>department</th>\n",
       "      <th>description</th>\n",
       "      <th>expense_category</th>\n",
       "      <th>expense_type</th>\n",
       "      <th>fiscal_year</th>\n",
       "      <th>fund</th>\n",
       "      <th>fund_type</th>\n",
       "      <th>program</th>\n",
       "      <th>service</th>\n",
       "    </tr>\n",
       "  </thead>\n",
       "  <tbody>\n",
       "    <tr>\n",
       "      <th>0</th>\n",
       "      <td>35709706</td>\n",
       "      <td>Transportation</td>\n",
       "      <td>City Central Costs</td>\n",
       "      <td>City Central Costs</td>\n",
       "      <td>Operating Expense</td>\n",
       "      <td>2018</td>\n",
       "      <td>General Fund</td>\n",
       "      <td>Tax-Supported Fund</td>\n",
       "      <td>General Expense</td>\n",
       "      <td>Utilities &amp; Transportation</td>\n",
       "    </tr>\n",
       "    <tr>\n",
       "      <th>1</th>\n",
       "      <td>31548714</td>\n",
       "      <td>Library</td>\n",
       "      <td>Programs and Services - Central and Branch Ope...</td>\n",
       "      <td>Programs and Services - Central and Branch Ope...</td>\n",
       "      <td>Operating Expense</td>\n",
       "      <td>2018</td>\n",
       "      <td>General Fund</td>\n",
       "      <td>Tax-Supported Fund</td>\n",
       "      <td>Library Programs and Services</td>\n",
       "      <td>Arts, Culture &amp; Recreation</td>\n",
       "    </tr>\n",
       "    <tr>\n",
       "      <th>2</th>\n",
       "      <td>630000</td>\n",
       "      <td>Firefighters Pension</td>\n",
       "      <td>Administration</td>\n",
       "      <td>Administration</td>\n",
       "      <td>Operating Expense</td>\n",
       "      <td>2018</td>\n",
       "      <td>General Fund</td>\n",
       "      <td>Tax-Supported Fund</td>\n",
       "      <td>Firefighters' Pension</td>\n",
       "      <td>Public Safety</td>\n",
       "    </tr>\n",
       "  </tbody>\n",
       "</table>\n",
       "</div>"
      ],
      "text/plain": [
       "   approved_amount            department  \\\n",
       "0         35709706        Transportation   \n",
       "1         31548714               Library   \n",
       "2           630000  Firefighters Pension   \n",
       "\n",
       "                                         description  \\\n",
       "0                                 City Central Costs   \n",
       "1  Programs and Services - Central and Branch Ope...   \n",
       "2                                     Administration   \n",
       "\n",
       "                                    expense_category       expense_type  \\\n",
       "0                                 City Central Costs  Operating Expense   \n",
       "1  Programs and Services - Central and Branch Ope...  Operating Expense   \n",
       "2                                     Administration  Operating Expense   \n",
       "\n",
       "  fiscal_year          fund           fund_type  \\\n",
       "0        2018  General Fund  Tax-Supported Fund   \n",
       "1        2018  General Fund  Tax-Supported Fund   \n",
       "2        2018  General Fund  Tax-Supported Fund   \n",
       "\n",
       "                         program                     service  \n",
       "0                General Expense  Utilities & Transportation  \n",
       "1  Library Programs and Services  Arts, Culture & Recreation  \n",
       "2          Firefighters' Pension               Public Safety  "
      ]
     },
     "execution_count": 12,
     "metadata": {},
     "output_type": "execute_result"
    }
   ],
   "source": [
    "# Filter to 2018\n",
    "budget_url = 'https://data.seattle.gov/resource/4fzy-5niz.json?fiscal_year=2018'\n",
    "seattle_budget = open_data_to_df(budget_url)\n",
    "seattle_budget['approved_amount'] = pd.to_numeric(seattle_budget['approved_amount'])\n",
    "seattle_budget.head(3)"
   ]
  },
  {
   "cell_type": "code",
   "execution_count": 13,
   "metadata": {},
   "outputs": [
    {
     "name": "stdout",
     "output_type": "stream",
     "text": [
      "Seattle's 2018 budget is $ 6009434024\n"
     ]
    }
   ],
   "source": [
    "# Seattle's 2018 budget is $6B\n",
    "print(\"Seattle's 2018 budget is $\", seattle_budget['approved_amount'].sum())"
   ]
  },
  {
   "cell_type": "code",
   "execution_count": 14,
   "metadata": {},
   "outputs": [
    {
     "data": {
      "text/html": [
       "<div>\n",
       "<style scoped>\n",
       "    .dataframe tbody tr th:only-of-type {\n",
       "        vertical-align: middle;\n",
       "    }\n",
       "\n",
       "    .dataframe tbody tr th {\n",
       "        vertical-align: top;\n",
       "    }\n",
       "\n",
       "    .dataframe thead th {\n",
       "        text-align: right;\n",
       "    }\n",
       "</style>\n",
       "<table border=\"1\" class=\"dataframe\">\n",
       "  <thead>\n",
       "    <tr style=\"text-align: right;\">\n",
       "      <th></th>\n",
       "      <th>department</th>\n",
       "      <th>approved_amount</th>\n",
       "    </tr>\n",
       "  </thead>\n",
       "  <tbody>\n",
       "    <tr>\n",
       "      <th>6</th>\n",
       "      <td>City Light</td>\n",
       "      <td>1409510990</td>\n",
       "    </tr>\n",
       "    <tr>\n",
       "      <th>46</th>\n",
       "      <td>Public Utilities</td>\n",
       "      <td>1167669094</td>\n",
       "    </tr>\n",
       "    <tr>\n",
       "      <th>20</th>\n",
       "      <td>Finance General</td>\n",
       "      <td>541389234</td>\n",
       "    </tr>\n",
       "    <tr>\n",
       "      <th>52</th>\n",
       "      <td>Transportation</td>\n",
       "      <td>477874991</td>\n",
       "    </tr>\n",
       "    <tr>\n",
       "      <th>44</th>\n",
       "      <td>Police</td>\n",
       "      <td>331321865</td>\n",
       "    </tr>\n",
       "    <tr>\n",
       "      <th>42</th>\n",
       "      <td>Personnel Compensation Trust Funds</td>\n",
       "      <td>263889348</td>\n",
       "    </tr>\n",
       "    <tr>\n",
       "      <th>29</th>\n",
       "      <td>Information Technology</td>\n",
       "      <td>253008449</td>\n",
       "    </tr>\n",
       "    <tr>\n",
       "      <th>22</th>\n",
       "      <td>Fire</td>\n",
       "      <td>212163674</td>\n",
       "    </tr>\n",
       "    <tr>\n",
       "      <th>21</th>\n",
       "      <td>Finance and Administrative Services</td>\n",
       "      <td>206486268</td>\n",
       "    </tr>\n",
       "    <tr>\n",
       "      <th>27</th>\n",
       "      <td>Human Services</td>\n",
       "      <td>176512901</td>\n",
       "    </tr>\n",
       "  </tbody>\n",
       "</table>\n",
       "</div>"
      ],
      "text/plain": [
       "                             department  approved_amount\n",
       "6                            City Light       1409510990\n",
       "46                     Public Utilities       1167669094\n",
       "20                      Finance General        541389234\n",
       "52                       Transportation        477874991\n",
       "44                               Police        331321865\n",
       "42   Personnel Compensation Trust Funds        263889348\n",
       "29               Information Technology        253008449\n",
       "22                                 Fire        212163674\n",
       "21  Finance and Administrative Services        206486268\n",
       "27                       Human Services        176512901"
      ]
     },
     "execution_count": 14,
     "metadata": {},
     "output_type": "execute_result"
    }
   ],
   "source": [
    "seattle_budget_top_10 = seattle_budget[['department', 'approved_amount']].groupby('department').sum() \\\n",
    "                .reset_index().sort_values('approved_amount', ascending=False)[:10]\n",
    "seattle_budget_top_10"
   ]
  },
  {
   "cell_type": "code",
   "execution_count": 15,
   "metadata": {},
   "outputs": [
    {
     "data": {
      "image/png": "[encoded data removed]",
      "text/plain": [
       "<Figure size 360x576 with 1 Axes>"
      ]
     },
     "metadata": {},
     "output_type": "display_data"
    }
   ],
   "source": [
    "plt.figure(figsize=(5,8))\n",
    "plt.barh(seattle_budget_top_10['department'][::-1], seattle_budget_top_10['approved_amount'][::-1])\n",
    "plt.title('Top 10 Deparments by Approved Operating Budget')\n",
    "plt.ylabel('Department')\n",
    "plt.xlabel('Approved Amount ($)');"
   ]
  },
  {
   "cell_type": "markdown",
   "metadata": {},
   "source": [
    "## How Has Seattle's Overall Budget Grown Over The Last Several Years?"
   ]
  },
  {
   "cell_type": "code",
   "execution_count": 16,
   "metadata": {},
   "outputs": [
    {
     "data": {
      "text/html": [
       "<div>\n",
       "<style scoped>\n",
       "    .dataframe tbody tr th:only-of-type {\n",
       "        vertical-align: middle;\n",
       "    }\n",
       "\n",
       "    .dataframe tbody tr th {\n",
       "        vertical-align: top;\n",
       "    }\n",
       "\n",
       "    .dataframe thead th {\n",
       "        text-align: right;\n",
       "    }\n",
       "</style>\n",
       "<table border=\"1\" class=\"dataframe\">\n",
       "  <thead>\n",
       "    <tr style=\"text-align: right;\">\n",
       "      <th></th>\n",
       "      <th>approved_amount</th>\n",
       "      <th>fiscal_year</th>\n",
       "    </tr>\n",
       "  </thead>\n",
       "  <tbody>\n",
       "    <tr>\n",
       "      <th>0</th>\n",
       "      <td>4.134111e+09</td>\n",
       "      <td>2010</td>\n",
       "    </tr>\n",
       "    <tr>\n",
       "      <th>1</th>\n",
       "      <td>4.122833e+09</td>\n",
       "      <td>2011</td>\n",
       "    </tr>\n",
       "    <tr>\n",
       "      <th>2</th>\n",
       "      <td>4.232593e+09</td>\n",
       "      <td>2012</td>\n",
       "    </tr>\n",
       "    <tr>\n",
       "      <th>3</th>\n",
       "      <td>4.323996e+09</td>\n",
       "      <td>2013</td>\n",
       "    </tr>\n",
       "    <tr>\n",
       "      <th>4</th>\n",
       "      <td>4.722631e+09</td>\n",
       "      <td>2014</td>\n",
       "    </tr>\n",
       "    <tr>\n",
       "      <th>5</th>\n",
       "      <td>5.139204e+09</td>\n",
       "      <td>2015</td>\n",
       "    </tr>\n",
       "    <tr>\n",
       "      <th>6</th>\n",
       "      <td>5.405327e+09</td>\n",
       "      <td>2016</td>\n",
       "    </tr>\n",
       "    <tr>\n",
       "      <th>7</th>\n",
       "      <td>5.705451e+09</td>\n",
       "      <td>2017</td>\n",
       "    </tr>\n",
       "    <tr>\n",
       "      <th>8</th>\n",
       "      <td>6.009434e+09</td>\n",
       "      <td>2018</td>\n",
       "    </tr>\n",
       "  </tbody>\n",
       "</table>\n",
       "</div>"
      ],
      "text/plain": [
       "   approved_amount fiscal_year\n",
       "0     4.134111e+09        2010\n",
       "1     4.122833e+09        2011\n",
       "2     4.232593e+09        2012\n",
       "3     4.323996e+09        2013\n",
       "4     4.722631e+09        2014\n",
       "5     5.139204e+09        2015\n",
       "6     5.405327e+09        2016\n",
       "7     5.705451e+09        2017\n",
       "8     6.009434e+09        2018"
      ]
     },
     "execution_count": 16,
     "metadata": {},
     "output_type": "execute_result"
    }
   ],
   "source": [
    "# Example using SoQL to filter results\n",
    "yearly_budget_url = 'https://data.seattle.gov/resource/4fzy-5niz.json?$select=fiscal_year, \\\n",
    "                   sum(approved_amount) as approved_amount\\\n",
    "                   where fiscal_year between 2010 and 2018 \\\n",
    "                   group by fiscal_year \\\n",
    "                   order by fiscal_year'\n",
    "yearly_budget = open_data_to_df(yearly_budget_url)\n",
    "\n",
    "# Convert approved_amount from string to numeric\n",
    "yearly_budget['approved_amount'] = pd.to_numeric(yearly_budget['approved_amount'])\n",
    "yearly_budget.head(10)"
   ]
  },
  {
   "cell_type": "code",
   "execution_count": 17,
   "metadata": {},
   "outputs": [
    {
     "data": {
      "image/png": "[encoded data removed]",
      "text/plain": [
       "<Figure size 1080x576 with 1 Axes>"
      ]
     },
     "metadata": {},
     "output_type": "display_data"
    }
   ],
   "source": [
    "plt.figure(figsize=(15,8))\n",
    "plt.plot(yearly_budget['fiscal_year'], yearly_budget['approved_amount'])\n",
    "plt.title(\"Seattle's Annual Budget Grew by $2 Billion Over The Last 9 Years\")\n",
    "plt.xlabel('Year')\n",
    "plt.ylabel('Approved Amount (Billions)');"
   ]
  },
  {
   "cell_type": "markdown",
   "metadata": {},
   "source": [
    "# Conclusion\n",
    "\n",
    "Hopefully you've found that working with APIs can be a fun process that unlocks numerous new data sources! With a little practice, the syntax and filtering will become second nature. Push yourself to try out a new API and dive into its documentation!"
   ]
  }
 ],
 "metadata": {
  "kernelspec": {
   "display_name": "Python 3",
   "language": "python",
   "name": "python3"
  },
  "language_info": {
   "codemirror_mode": {
    "name": "ipython",
    "version": 3
   },
   "file_extension": ".py",
   "mimetype": "text/x-python",
   "name": "python",
   "nbconvert_exporter": "python",
   "pygments_lexer": "ipython3",
   "version": "3.6.5"
  }
 },
 "nbformat": 4,
 "nbformat_minor": 2
}
